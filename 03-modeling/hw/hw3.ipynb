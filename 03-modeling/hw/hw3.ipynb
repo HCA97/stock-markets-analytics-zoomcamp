{
 "cells": [
  {
   "cell_type": "code",
   "execution_count": 1,
   "id": "be2235b1-18e3-4f76-b7fc-f7b0b1800771",
   "metadata": {},
   "outputs": [],
   "source": [
    "# IMPORTS\n",
    "import numpy as np\n",
    "import pandas as pd\n",
    "\n",
    "#Fin Data Sources\n",
    "import yfinance as yf\n",
    "import pandas_datareader as pdr\n",
    "\n",
    "#Data viz\n",
    "import plotly.graph_objs as go\n",
    "import plotly.graph_objects as go\n",
    "import plotly.express as px\n",
    "\n",
    "import time\n",
    "from datetime import date\n",
    "\n",
    "# for graphs\n",
    "import matplotlib.pyplot as plt"
   ]
  },
  {
   "cell_type": "markdown",
   "id": "abe9359e-1aae-464b-863b-2f5cf03645a3",
   "metadata": {},
   "source": [
    "# Q1"
   ]
  },
  {
   "cell_type": "code",
   "execution_count": 2,
   "id": "02d8ffc1-536e-480b-8fb3-ba89f55e11ae",
   "metadata": {},
   "outputs": [],
   "source": [
    "df_full = pd.read_parquet(\"../stocks_df_combined_2024_05_07.parquet.brotli\")"
   ]
  },
  {
   "cell_type": "code",
   "execution_count": 3,
   "id": "2ee2a1fa-9a3e-4572-be7d-b12dfab85d52",
   "metadata": {},
   "outputs": [
    {
     "name": "stderr",
     "output_type": "stream",
     "text": [
      "/tmp/ipykernel_74590/912909511.py:1: RuntimeWarning: divide by zero encountered in log\n",
      "  df_full['ln_volume'] = df_full.Volume.apply(lambda x: np.log(x))\n"
     ]
    }
   ],
   "source": [
    "df_full['ln_volume'] = df_full.Volume.apply(lambda x: np.log(x))"
   ]
  },
  {
   "cell_type": "code",
   "execution_count": 4,
   "id": "3c628460-bef5-4ab6-b92c-f24b212df472",
   "metadata": {},
   "outputs": [],
   "source": [
    "df = df_full[df_full.Date>='2000-01-01']"
   ]
  },
  {
   "cell_type": "code",
   "execution_count": 5,
   "id": "f1d71ca2-3f17-4c15-bcca-503e1f7bcc6e",
   "metadata": {},
   "outputs": [],
   "source": [
    "CATEGORICAL = ['Month', 'Weekday', 'Ticker', 'ticker_type', 'month_wom']\n",
    "OHLCV = ['Open','High','Low','Close','Adj Close_x','Volume']\n",
    "\n",
    "TO_DROP = ['Year','Date','index_x', 'index_y', 'index', 'Quarter','Adj Close_y'] + CATEGORICAL + OHLCV\n",
    "TECHNICAL_PATTERNS = [g for g in df_full.keys() if g.find('cdl')>=0]\n",
    "MACRO = ['gdppot_us_yoy', 'gdppot_us_qoq', 'cpi_core_yoy', 'cpi_core_mom', 'FEDFUNDS',\n",
    " 'DGS1', 'DGS5', 'DGS10']\n",
    "TO_PREDICT = [g for g in df_full.keys() if (g.find('future')>=0)]\n",
    "GROWTH = [g for g in df_full.keys() if (g.find('growth_')==0)&(g.find('future')<0)]\n",
    "CUSTOM_NUMERICAL = ['SMA10', 'SMA20', 'growing_moving_average', 'high_minus_low_relative','volatility', 'ln_volume']\n",
    "TECHNICAL_INDICATORS = ['adx', 'adxr', 'apo', 'aroon_1','aroon_2', 'aroonosc',\n",
    " 'bop', 'cci', 'cmo','dx', 'macd', 'macdsignal', 'macdhist', 'macd_ext',\n",
    " 'macdsignal_ext', 'macdhist_ext', 'macd_fix', 'macdsignal_fix',\n",
    " 'macdhist_fix', 'mfi', 'minus_di', 'mom', 'plus_di', 'dm', 'ppo',\n",
    " 'roc', 'rocp', 'rocr', 'rocr100', 'rsi', 'slowk', 'slowd', 'fastk',\n",
    " 'fastd', 'fastk_rsi', 'fastd_rsi', 'trix', 'ultosc', 'willr',\n",
    " 'ad', 'adosc', 'obv', 'atr', 'natr', 'ht_dcperiod', 'ht_dcphase',\n",
    " 'ht_phasor_inphase', 'ht_phasor_quadrature', 'ht_sine_sine', 'ht_sine_leadsine',\n",
    " 'ht_trendmod', 'avgprice', 'medprice', 'typprice', 'wclprice']\n",
    "NUMERICAL = GROWTH + TECHNICAL_INDICATORS + TECHNICAL_PATTERNS + CUSTOM_NUMERICAL + MACRO\n",
    "OTHER = [k for k in df_full.keys() if k not in OHLCV + CATEGORICAL + NUMERICAL + TO_DROP]"
   ]
  },
  {
   "cell_type": "code",
   "execution_count": 6,
   "id": "bd362611-5d5a-4f62-8c82-d09202bc32ab",
   "metadata": {},
   "outputs": [],
   "source": [
    "df.loc[:,'Month'] = df.Month.dt.strftime('%B')\n",
    "df.loc[:,'Weekday'] = df.Weekday.astype(str)"
   ]
  },
  {
   "cell_type": "code",
   "execution_count": 7,
   "id": "85146406-b5b8-4764-9ec1-66881b256353",
   "metadata": {},
   "outputs": [
    {
     "name": "stderr",
     "output_type": "stream",
     "text": [
      "/tmp/ipykernel_74590/2427115233.py:1: SettingWithCopyWarning: \n",
      "A value is trying to be set on a copy of a slice from a DataFrame.\n",
      "Try using .loc[row_indexer,col_indexer] = value instead\n",
      "\n",
      "See the caveats in the documentation: https://pandas.pydata.org/pandas-docs/stable/user_guide/indexing.html#returning-a-view-versus-a-copy\n",
      "  df.loc[:, \"month_wom\"] = df.apply(\n"
     ]
    }
   ],
   "source": [
    "df.loc[:, \"month_wom\"] = df.apply(\n",
    "    lambda x:'%s_%d' % (x['Month'],(x['Date'].day - 1) // 7 + 1),axis=1)"
   ]
  },
  {
   "cell_type": "code",
   "execution_count": 8,
   "id": "7251c1d6-a7da-4a7d-b737-4bb24fa54e36",
   "metadata": {},
   "outputs": [],
   "source": [
    "dummy_month_wom = pd.get_dummies(df[\"month_wom\"], dtype='int32')"
   ]
  },
  {
   "cell_type": "code",
   "execution_count": 9,
   "id": "43257e86-ba84-449c-951b-45be4039d72f",
   "metadata": {},
   "outputs": [
    {
     "data": {
      "text/plain": [
       "60"
      ]
     },
     "execution_count": 9,
     "metadata": {},
     "output_type": "execute_result"
    }
   ],
   "source": [
    "len(dummy_month_wom.keys().to_list())"
   ]
  },
  {
   "cell_type": "code",
   "execution_count": 10,
   "id": "055d1cf4-c83c-419f-a4d3-ed9f23350b77",
   "metadata": {},
   "outputs": [],
   "source": [
    "DUMMIES = dummy_month_wom.keys().to_list()\n",
    "df_with_dummies = pd.concat([df[\"is_positive_growth_5d_future\"], dummy_month_wom], axis=1)"
   ]
  },
  {
   "cell_type": "code",
   "execution_count": 11,
   "id": "424293ff-8645-4cc5-b229-6b91faefc1f1",
   "metadata": {},
   "outputs": [],
   "source": [
    "corr_is_positive_growth_5d_future = df_with_dummies.corr()['is_positive_growth_5d_future']"
   ]
  },
  {
   "cell_type": "code",
   "execution_count": 12,
   "id": "b2b98b41-a31e-4dc4-a2f8-c784b7341372",
   "metadata": {},
   "outputs": [],
   "source": [
    "corr_is_positive_growth_5d_future_df = pd.DataFrame(corr_is_positive_growth_5d_future)"
   ]
  },
  {
   "cell_type": "code",
   "execution_count": 13,
   "id": "cfd06ca1-89c3-42e6-9480-397f5f107f16",
   "metadata": {},
   "outputs": [
    {
     "data": {
      "text/plain": [
       "'0.035'"
      ]
     },
     "execution_count": 13,
     "metadata": {},
     "output_type": "execute_result"
    }
   ],
   "source": [
    "f'''{corr_is_positive_growth_5d_future_df[\n",
    "    corr_is_positive_growth_5d_future_df.index != \"is_positive_growth_5d_future\"\n",
    "][\"is_positive_growth_5d_future\"].abs().max():.3f}'''"
   ]
  },
  {
   "cell_type": "markdown",
   "id": "a29b3898-e1bc-4293-aa1b-e7929f09320f",
   "metadata": {},
   "source": [
    "# Q2"
   ]
  },
  {
   "cell_type": "code",
   "execution_count": 14,
   "id": "8f09f25b-6f9b-477c-8eb3-53b67b9d20a1",
   "metadata": {},
   "outputs": [],
   "source": [
    "def temporal_split(df, min_date, max_date, train_prop=0.7, val_prop=0.15, test_prop=0.15):\n",
    "    \"\"\"\n",
    "    Splits a DataFrame into three buckets based on the temporal order of the 'Date' column.\n",
    "\n",
    "    Args:\n",
    "        df (DataFrame): The DataFrame to split.\n",
    "        min_date (str or Timestamp): Minimum date in the DataFrame.\n",
    "        max_date (str or Timestamp): Maximum date in the DataFrame.\n",
    "        train_prop (float): Proportion of data for training set (default: 0.6).\n",
    "        val_prop (float): Proportion of data for validation set (default: 0.2).\n",
    "        test_prop (float): Proportion of data for test set (default: 0.2).\n",
    "\n",
    "    Returns:\n",
    "        DataFrame: The input DataFrame with a new column 'split' indicating the split for each row.\n",
    "    \"\"\"\n",
    "    # Define the date intervals\n",
    "    train_end = min_date + pd.Timedelta(days=(max_date - min_date).days * train_prop)\n",
    "    val_end = train_end + pd.Timedelta(days=(max_date - min_date).days * val_prop)\n",
    "\n",
    "    # Assign split labels based on date ranges\n",
    "    split_labels = []\n",
    "    for date in df['Date']:\n",
    "        if date <= train_end:\n",
    "            split_labels.append('train')\n",
    "        elif date <= val_end:\n",
    "            split_labels.append('validation')\n",
    "        else:\n",
    "            split_labels.append('test')\n",
    "\n",
    "    # Add 'split' column to the DataFrame\n",
    "    df['split'] = split_labels\n",
    "\n",
    "    return df"
   ]
  },
  {
   "cell_type": "code",
   "execution_count": 15,
   "id": "05dd3f1d-2422-4d5c-b8a6-67a7153a112a",
   "metadata": {},
   "outputs": [],
   "source": [
    "dummy_df = pd.get_dummies(df[CATEGORICAL], dtype='int32')"
   ]
  },
  {
   "cell_type": "code",
   "execution_count": 16,
   "id": "9ee7eb85-a0d0-4912-b4c0-fb0b55a9c1bc",
   "metadata": {},
   "outputs": [],
   "source": [
    "df_with_dummies = pd.concat([df, dummy_df], axis=1)"
   ]
  },
  {
   "cell_type": "code",
   "execution_count": 17,
   "id": "045333b1-d23d-4d43-bee0-547fc866a80f",
   "metadata": {},
   "outputs": [],
   "source": [
    "DUMMIES = dummy_df.keys().to_list()"
   ]
  },
  {
   "cell_type": "code",
   "execution_count": 18,
   "id": "fc6faffc-4237-4855-ba82-1dc158fad8fe",
   "metadata": {},
   "outputs": [
    {
     "name": "stdout",
     "output_type": "stream",
     "text": [
      "<class 'pandas.core.frame.DataFrame'>\n",
      "Index: 182675 entries, 3490 to 5426\n",
      "Columns: 299 entries, growth_1d to month_wom_September_5\n",
      "dtypes: float64(121), int32(177), int64(1)\n",
      "memory usage: 294.8 MB\n"
     ]
    }
   ],
   "source": [
    "df_with_dummies[NUMERICAL+DUMMIES].info()"
   ]
  },
  {
   "cell_type": "code",
   "execution_count": 19,
   "id": "5f04a771-43aa-4065-8b54-90bd83478064",
   "metadata": {},
   "outputs": [],
   "source": [
    "min_date_df = df_with_dummies.Date.min()\n",
    "max_date_df = df_with_dummies.Date.max()\n",
    "\n",
    "df_with_dummies = temporal_split(df_with_dummies,\n",
    "                                 min_date = min_date_df,\n",
    "                                 max_date = max_date_df)"
   ]
  },
  {
   "cell_type": "code",
   "execution_count": 20,
   "id": "d069326c-2177-4cd3-9795-50d1422d050c",
   "metadata": {},
   "outputs": [],
   "source": [
    "new_df = df_with_dummies.copy()"
   ]
  },
  {
   "cell_type": "code",
   "execution_count": 21,
   "id": "d07c63cf-c2a6-4e2c-815e-044b7b5ee6e1",
   "metadata": {},
   "outputs": [],
   "source": [
    "new_df['pred0_manual_cci'] = (new_df.cci>200).astype(int)\n",
    "new_df['pred1_manual_prev_g1'] = (new_df.growth_1d>1).astype(int)\n",
    "new_df['pred2_manual_prev_g1_and_snp'] = ((new_df['growth_1d'] > 1) & (new_df['growth_snp500_1d'] > 1)).astype(int)\n",
    "new_df[\"pred3_manual_gdp_fastd\"] = ((new_df[\"gdppot_us_yoy\"] <= 0.027) & (new_df[\"fastd\"] >= 0.251)).astype(int)\n",
    "new_df[\"pred4_manual_gdp_wti_oil\"] = ((new_df[\"gdppot_us_yoy\"] >= 0.027) & (new_df[\"growth_wti_oil_30d\"] <= 1.005)).astype(int)"
   ]
  },
  {
   "cell_type": "code",
   "execution_count": 22,
   "id": "c95b7476-2f2e-4fb7-8c00-599ba2e0ddf0",
   "metadata": {},
   "outputs": [
    {
     "data": {
      "text/plain": [
       "['pred0_manual_cci',\n",
       " 'pred1_manual_prev_g1',\n",
       " 'pred2_manual_prev_g1_and_snp',\n",
       " 'pred3_manual_gdp_fastd',\n",
       " 'pred4_manual_gdp_wti_oil']"
      ]
     },
     "execution_count": 22,
     "metadata": {},
     "output_type": "execute_result"
    }
   ],
   "source": [
    "PREDICTIONS = [k for k in new_df.keys() if k.startswith('pred')]\n",
    "PREDICTIONS"
   ]
  },
  {
   "cell_type": "code",
   "execution_count": 23,
   "id": "5314ad1b-afa9-47b5-a7d0-4990bff8e7fa",
   "metadata": {},
   "outputs": [],
   "source": [
    "# generate columns is_correct_\n",
    "for pred in PREDICTIONS:\n",
    "  part1 = pred.split('_')[0] # first prefix before '_'\n",
    "  new_df[f'is_correct_{part1}'] =  (new_df[pred] == new_df.is_positive_growth_5d_future).astype(int)"
   ]
  },
  {
   "cell_type": "code",
   "execution_count": 24,
   "id": "0988fa6d-f85d-4c11-b3c0-91b58b5ce98d",
   "metadata": {},
   "outputs": [
    {
     "data": {
      "text/plain": [
       "['is_correct_pred0',\n",
       " 'is_correct_pred1',\n",
       " 'is_correct_pred2',\n",
       " 'is_correct_pred3',\n",
       " 'is_correct_pred4']"
      ]
     },
     "execution_count": 24,
     "metadata": {},
     "output_type": "execute_result"
    }
   ],
   "source": [
    "IS_CORRECT =  [k for k in new_df.keys() if k.startswith('is_correct_')]\n",
    "IS_CORRECT"
   ]
  },
  {
   "cell_type": "code",
   "execution_count": 25,
   "id": "072e0bf5-a7f1-4e18-9f85-2cd98e38f988",
   "metadata": {},
   "outputs": [
    {
     "name": "stdout",
     "output_type": "stream",
     "text": [
      "Prediction column:pred0_manual_cci , is_correct_column: is_correct_pred0\n",
      "0.569\n",
      "---------\n",
      "Prediction column:pred1_manual_prev_g1 , is_correct_column: is_correct_pred1\n",
      "0.553\n",
      "---------\n",
      "Prediction column:pred2_manual_prev_g1_and_snp , is_correct_column: is_correct_pred2\n",
      "0.548\n",
      "---------\n",
      "Prediction column:pred3_manual_gdp_fastd , is_correct_column: is_correct_pred3\n",
      "0.555\n",
      "---------\n",
      "Prediction column:pred4_manual_gdp_wti_oil , is_correct_column: is_correct_pred4\n",
      "0.0\n",
      "---------\n"
     ]
    }
   ],
   "source": [
    "# define \"Precision\" for ALL predictions on a Test dataset (~4 last years of trading)\n",
    "for i,column in enumerate(IS_CORRECT):\n",
    "  prediction_column = PREDICTIONS[i]\n",
    "  is_correct_column = column\n",
    "  test_filter = (new_df.split=='test') & (new_df[prediction_column]==1)\n",
    "  print(f'Prediction column:{prediction_column} , is_correct_column: {is_correct_column}')\n",
    "  try:\n",
    "      print(f\"{sum(new_df[test_filter][is_correct_column] == 1)/len(new_df[test_filter]):.3}\")\n",
    "  except ZeroDivisionError:\n",
    "      print(\"0.0\")\n",
    "      \n",
    "  print('---------')"
   ]
  },
  {
   "cell_type": "markdown",
   "id": "ba4d93a4-d73d-4adb-9237-1fc315290707",
   "metadata": {},
   "source": [
    "# Q3"
   ]
  },
  {
   "cell_type": "code",
   "execution_count": 26,
   "id": "0b1a8b3a-d543-4d56-9c6d-4f1befd3e027",
   "metadata": {},
   "outputs": [],
   "source": [
    "from sklearn.impute import SimpleImputer\n",
    "from sklearn.tree import DecisionTreeClassifier\n",
    "from sklearn.metrics import accuracy_score\n",
    "from sklearn.metrics import precision_score"
   ]
  },
  {
   "cell_type": "code",
   "execution_count": 27,
   "id": "db17c7e6-df98-42f2-99d3-9e2b5e0160f3",
   "metadata": {},
   "outputs": [],
   "source": [
    "max_depth = 10\n",
    "random_state = 42"
   ]
  },
  {
   "cell_type": "code",
   "execution_count": 28,
   "id": "9bbab8fb-d22e-4222-a388-bb918af30739",
   "metadata": {},
   "outputs": [],
   "source": [
    "import numpy as np\n",
    "\n",
    "def remove_infinite_values(X):\n",
    "    \"\"\"\n",
    "    Remove infinite values from the input array.\n",
    "\n",
    "    Parameters:\n",
    "    - X: Input array (NumPy array or array-like)\n",
    "\n",
    "    Returns:\n",
    "    - Array with infinite values removed\n",
    "    \"\"\"\n",
    "    return X[np.isfinite(X).all(axis=1)]\n"
   ]
  },
  {
   "cell_type": "code",
   "execution_count": 29,
   "id": "b5e0b10c-b944-45a3-b531-c626de2be652",
   "metadata": {},
   "outputs": [
    {
     "name": "stdout",
     "output_type": "stream",
     "text": [
      "length: X_train (152846, 302),  X_test (29829, 302)\n"
     ]
    }
   ],
   "source": [
    "# Split the data into training and testing sets based on the split date\n",
    "features_list = NUMERICAL+DUMMIES\n",
    "to_predict = 'is_positive_growth_5d_future'\n",
    "\n",
    "train_df = new_df[new_df.split.isin(['train','validation'])].copy(deep=True)\n",
    "test_df = new_df[new_df.split.isin(['test'])].copy(deep=True)\n",
    "\n",
    "# ONLY numerical Separate features and target variable for training and testing sets\n",
    "# need Date and Ticker later when merging predictions to the dataset\n",
    "X_train = train_df[features_list+[to_predict,'Date','Ticker']]\n",
    "X_val = train_df[train_df.split == \"validation\"][features_list+[to_predict,'Date','Ticker']]\n",
    "X_test = test_df[features_list+[to_predict,'Date','Ticker']]\n",
    "\n",
    "print(f'length: X_train {X_train.shape},  X_test {X_test.shape}')\n"
   ]
  },
  {
   "cell_type": "code",
   "execution_count": 30,
   "id": "b6f06627-eccb-45f9-8bc4-c5b89114df14",
   "metadata": {},
   "outputs": [
    {
     "name": "stdout",
     "output_type": "stream",
     "text": [
      "length: X_train_imputed (152846, 302),  X_test_imputed (29829, 302)\n"
     ]
    }
   ],
   "source": [
    "# Can't have +-inf values . E.g. ln(volume)=-inf when volume==0 => substitute with 0\n",
    "\n",
    "# Disable SettingWithCopyWarning\n",
    "pd.options.mode.chained_assignment = None  # default='warn'\n",
    "\n",
    "X_train.replace([np.inf, -np.inf], np.nan, inplace=True)\n",
    "X_test.replace([np.inf, -np.inf], np.nan, inplace=True)\n",
    "X_val.replace([np.inf, -np.inf], np.nan, inplace=True)\n",
    "\n",
    "# Need to fill NaNs somehow\n",
    "X_train.fillna(0, inplace=True)\n",
    "X_test.fillna(0, inplace=True)\n",
    "X_val.fillna(0, inplace=True)\n",
    "\n",
    "print(f'length: X_train_imputed {X_train.shape},  X_test_imputed {X_test.shape}')"
   ]
  },
  {
   "cell_type": "code",
   "execution_count": 31,
   "id": "b59e9678-7266-4326-b506-1b205e15e1c6",
   "metadata": {},
   "outputs": [],
   "source": [
    "X_train_imputed = X_train \n",
    "X_test_imputed = X_test \n",
    "X_val_imputed = X_val"
   ]
  },
  {
   "cell_type": "code",
   "execution_count": 32,
   "id": "b8e150ed-79c3-4070-b191-75a44f19a3ed",
   "metadata": {},
   "outputs": [],
   "source": [
    "y_train = X_train_imputed[to_predict]\n",
    "y_test = X_test_imputed[to_predict]\n",
    "y_val = X_val_imputed[to_predict]\n",
    "\n",
    "# remove y_train, y_test from X_ dataframes\n",
    "del X_train_imputed[to_predict]\n",
    "del X_test_imputed[to_predict]\n",
    "del X_val_imputed[to_predict]"
   ]
  },
  {
   "cell_type": "code",
   "execution_count": 33,
   "id": "6e9d78e0-0b56-438b-a81a-e8a4e9f12118",
   "metadata": {},
   "outputs": [],
   "source": [
    "def fit_decision_tree(X, y, max_depth=20):\n",
    "# Initialize the Decision Tree Classifier\n",
    "  clf = DecisionTreeClassifier(max_depth=max_depth, random_state=random_state)\n",
    "\n",
    "  # Fit the classifier to the training data\n",
    "  clf.fit(X, y)\n",
    "  return clf, X.columns"
   ]
  },
  {
   "cell_type": "code",
   "execution_count": 34,
   "id": "92e3742f-af43-4f5b-b4f1-3dbff74053f2",
   "metadata": {},
   "outputs": [],
   "source": [
    "clf_10, train_columns = fit_decision_tree(X=X_train_imputed.drop(['Date','Ticker'],axis=1),\n",
    "                           y=y_train,\n",
    "                           max_depth=10)"
   ]
  },
  {
   "cell_type": "code",
   "execution_count": 35,
   "id": "d9c46a67-52a3-48ab-8cd6-f2f38ebdae9e",
   "metadata": {},
   "outputs": [],
   "source": [
    "y_test_pred = clf_10.predict(X_test_imputed.drop(['Date','Ticker'],axis=1))"
   ]
  },
  {
   "cell_type": "code",
   "execution_count": 36,
   "id": "c3721765-3b95-43b7-be7e-348b044bb270",
   "metadata": {},
   "outputs": [
    {
     "data": {
      "text/plain": [
       "1"
      ]
     },
     "execution_count": 36,
     "metadata": {},
     "output_type": "execute_result"
    }
   ],
   "source": [
    "sum(\n",
    "    y_test_pred * \\\n",
    "    test_df[\"is_positive_growth_5d_future\"] * \\\n",
    "    (1 - test_df[\"is_correct_pred0\"]) * \\\n",
    "    (1 - test_df[\"is_correct_pred1\"]) * \\\n",
    "    (1 - test_df[\"is_correct_pred2\"]) * \\\n",
    "    (1 - test_df[\"is_correct_pred3\"]) * \\\n",
    "    (1 - test_df[\"is_correct_pred4\"])\n",
    ")"
   ]
  },
  {
   "cell_type": "markdown",
   "id": "5a8df169-ec41-4c0d-9d0f-6723c8d25437",
   "metadata": {},
   "source": [
    "# Q4"
   ]
  },
  {
   "cell_type": "code",
   "execution_count": 39,
   "id": "149312d8-f811-47fe-9624-dccdd10aad77",
   "metadata": {},
   "outputs": [],
   "source": [
    "try:\n",
    "    X_train_imputed = X_train_imputed.drop(['Date','Ticker'],axis=1)\n",
    "except:\n",
    "    pass\n",
    "\n",
    "try:\n",
    "    X_val_imputed = X_val_imputed.drop(['Date','Ticker'],axis=1)\n",
    "except: \n",
    "    pass\n",
    "\n",
    "try:\n",
    "    X_test_imputed = X_test_imputed.drop(['Date','Ticker'], axis=1)\n",
    "except:\n",
    "    pass"
   ]
  },
  {
   "cell_type": "code",
   "execution_count": 40,
   "id": "8f2c29c3-3b1f-4a45-90ef-83be6466f7fb",
   "metadata": {},
   "outputs": [
    {
     "name": "stdout",
     "output_type": "stream",
     "text": [
      "Max Depth: 1\n",
      "Validation Precision 0.572\n",
      "Test Precision 0.555\n",
      "====================\n",
      "Max Depth: 2\n",
      "Validation Precision 0.572\n",
      "Test Precision 0.555\n",
      "====================\n",
      "Max Depth: 3\n",
      "Validation Precision 0.571\n",
      "Test Precision 0.555\n",
      "====================\n",
      "Max Depth: 4\n",
      "Validation Precision 0.571\n",
      "Test Precision 0.555\n",
      "====================\n",
      "Max Depth: 5\n",
      "Validation Precision 0.571\n",
      "Test Precision 0.555\n",
      "====================\n",
      "Max Depth: 6\n",
      "Validation Precision 0.570\n",
      "Test Precision 0.571\n",
      "====================\n",
      "Max Depth: 7\n",
      "Validation Precision 0.572\n",
      "Test Precision 0.568\n",
      "====================\n",
      "Max Depth: 8\n",
      "Validation Precision 0.576\n",
      "Test Precision 0.568\n",
      "====================\n",
      "Max Depth: 9\n",
      "Validation Precision 0.577\n",
      "Test Precision 0.570\n",
      "====================\n",
      "Max Depth: 10\n",
      "Validation Precision 0.585\n",
      "Test Precision 0.565\n",
      "====================\n",
      "Max Depth: 11\n",
      "Validation Precision 0.602\n",
      "Test Precision 0.567\n",
      "====================\n",
      "Max Depth: 12\n",
      "Validation Precision 0.615\n",
      "Test Precision 0.572\n",
      "====================\n",
      "Max Depth: 13\n",
      "Validation Precision 0.620\n",
      "Test Precision 0.571\n",
      "====================\n",
      "Max Depth: 14\n",
      "Validation Precision 0.643\n",
      "Test Precision 0.584\n",
      "====================\n",
      "Max Depth: 15\n",
      "Validation Precision 0.666\n",
      "Test Precision 0.586\n",
      "====================\n",
      "Max Depth: 16\n",
      "Validation Precision 0.673\n",
      "Test Precision 0.572\n",
      "====================\n",
      "Max Depth: 17\n",
      "Validation Precision 0.691\n",
      "Test Precision 0.577\n",
      "====================\n",
      "Max Depth: 18\n",
      "Validation Precision 0.709\n",
      "Test Precision 0.568\n",
      "====================\n",
      "Max Depth: 19\n",
      "Validation Precision 0.719\n",
      "Test Precision 0.564\n",
      "====================\n",
      "Max Depth: 20\n",
      "Validation Precision 0.729\n",
      "Test Precision 0.573\n",
      "====================\n"
     ]
    }
   ],
   "source": [
    "for i in range(1, 21):\n",
    "    clf, train_columns = fit_decision_tree(X=X_train_imputed,\n",
    "                               y=y_train,\n",
    "                               max_depth=i)\n",
    "\n",
    "    print(f\"Max Depth: {i}\")\n",
    "    print(f\"Validation Precision {precision_score(y_val, clf.predict(X_val_imputed)):.3f}\")\n",
    "    print(f\"Test Precision {precision_score(y_test, clf.predict(X_test_imputed)):.3f}\")\n",
    "    print(\"====================\")"
   ]
  },
  {
   "cell_type": "code",
   "execution_count": null,
   "id": "13519a66-b8b1-40b1-a75b-93467f90aeea",
   "metadata": {},
   "outputs": [],
   "source": []
  }
 ],
 "metadata": {
  "kernelspec": {
   "display_name": "Python 3 (ipykernel)",
   "language": "python",
   "name": "python3"
  },
  "language_info": {
   "codemirror_mode": {
    "name": "ipython",
    "version": 3
   },
   "file_extension": ".py",
   "mimetype": "text/x-python",
   "name": "python",
   "nbconvert_exporter": "python",
   "pygments_lexer": "ipython3",
   "version": "3.10.14"
  }
 },
 "nbformat": 4,
 "nbformat_minor": 5
}

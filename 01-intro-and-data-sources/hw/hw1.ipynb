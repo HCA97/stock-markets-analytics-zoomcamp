{
 "cells": [
  {
   "cell_type": "code",
   "execution_count": 1,
   "id": "893fa78c-e0e7-4e19-8672-221a2b21dad6",
   "metadata": {},
   "outputs": [],
   "source": [
    "# IMPORTS\n",
    "import numpy as np\n",
    "import pandas as pd\n",
    "\n",
    "#Fin Data Sources\n",
    "import yfinance as yf\n",
    "import pandas_datareader as pdr\n",
    "\n",
    "#Data viz\n",
    "import plotly.graph_objs as go\n",
    "import plotly.express as px\n",
    "\n",
    "import time\n",
    "from datetime import date"
   ]
  },
  {
   "cell_type": "code",
   "execution_count": 2,
   "id": "84c1f49a-6f14-4cee-aaee-cf8a0bd1c509",
   "metadata": {},
   "outputs": [
    {
     "name": "stdout",
     "output_type": "stream",
     "text": [
      "Year = 2024; month= 4; day=21\n",
      "Period for indexes: 1954-04-21 to 2024-04-21 \n"
     ]
    }
   ],
   "source": [
    "end = date.today()\n",
    "print(f'Year = {end.year}; month= {end.month}; day={end.day}')\n",
    "\n",
    "start = date(year=end.year-70, month=end.month, day=end.day)\n",
    "print(f'Period for indexes: {start} to {end} ')"
   ]
  },
  {
   "cell_type": "markdown",
   "id": "1cf7ce35-3b6f-4f15-931c-9b1393d32bdb",
   "metadata": {},
   "source": [
    "# Q1"
   ]
  },
  {
   "cell_type": "code",
   "execution_count": 3,
   "id": "96324d6c-8e9d-4e39-a85c-5b117cb5b92f",
   "metadata": {},
   "outputs": [],
   "source": [
    "gdpc1 = pdr.DataReader(\"GDPC1\", \"fred\", start=start)"
   ]
  },
  {
   "cell_type": "code",
   "execution_count": 4,
   "id": "77fa483f-5713-4dc4-adbf-3fdf8c7afdb8",
   "metadata": {},
   "outputs": [
    {
     "data": {
      "text/html": [
       "<div>\n",
       "<style scoped>\n",
       "    .dataframe tbody tr th:only-of-type {\n",
       "        vertical-align: middle;\n",
       "    }\n",
       "\n",
       "    .dataframe tbody tr th {\n",
       "        vertical-align: top;\n",
       "    }\n",
       "\n",
       "    .dataframe thead th {\n",
       "        text-align: right;\n",
       "    }\n",
       "</style>\n",
       "<table border=\"1\" class=\"dataframe\">\n",
       "  <thead>\n",
       "    <tr style=\"text-align: right;\">\n",
       "      <th></th>\n",
       "      <th>GDPC1</th>\n",
       "    </tr>\n",
       "    <tr>\n",
       "      <th>DATE</th>\n",
       "      <th></th>\n",
       "    </tr>\n",
       "  </thead>\n",
       "  <tbody>\n",
       "    <tr>\n",
       "      <th>1954-07-01</th>\n",
       "      <td>2880.482</td>\n",
       "    </tr>\n",
       "    <tr>\n",
       "      <th>1954-10-01</th>\n",
       "      <td>2936.852</td>\n",
       "    </tr>\n",
       "    <tr>\n",
       "      <th>1955-01-01</th>\n",
       "      <td>3020.746</td>\n",
       "    </tr>\n",
       "    <tr>\n",
       "      <th>1955-04-01</th>\n",
       "      <td>3069.910</td>\n",
       "    </tr>\n",
       "    <tr>\n",
       "      <th>1955-07-01</th>\n",
       "      <td>3111.379</td>\n",
       "    </tr>\n",
       "    <tr>\n",
       "      <th>1955-10-01</th>\n",
       "      <td>3130.068</td>\n",
       "    </tr>\n",
       "    <tr>\n",
       "      <th>1956-01-01</th>\n",
       "      <td>3117.922</td>\n",
       "    </tr>\n",
       "    <tr>\n",
       "      <th>1956-04-01</th>\n",
       "      <td>3143.694</td>\n",
       "    </tr>\n",
       "  </tbody>\n",
       "</table>\n",
       "</div>"
      ],
      "text/plain": [
       "               GDPC1\n",
       "DATE                \n",
       "1954-07-01  2880.482\n",
       "1954-10-01  2936.852\n",
       "1955-01-01  3020.746\n",
       "1955-04-01  3069.910\n",
       "1955-07-01  3111.379\n",
       "1955-10-01  3130.068\n",
       "1956-01-01  3117.922\n",
       "1956-04-01  3143.694"
      ]
     },
     "execution_count": 4,
     "metadata": {},
     "output_type": "execute_result"
    }
   ],
   "source": [
    "gdpc1.iloc[:8]"
   ]
  },
  {
   "cell_type": "code",
   "execution_count": 5,
   "id": "181cda39-4787-4b97-96ab-4ce4e280cc87",
   "metadata": {},
   "outputs": [],
   "source": [
    "# Formula: https://www.wallstreetprep.com/knowledge/year-over-year-yoy/\n",
    "gdpc1['gdpc1_yoy'] = (gdpc1.GDPC1/gdpc1.GDPC1.shift(4))-1"
   ]
  },
  {
   "cell_type": "code",
   "execution_count": 6,
   "id": "971eb7bf-5a3e-4d44-9aaf-5ea1b0591060",
   "metadata": {},
   "outputs": [
    {
     "data": {
      "text/html": [
       "<div>\n",
       "<style scoped>\n",
       "    .dataframe tbody tr th:only-of-type {\n",
       "        vertical-align: middle;\n",
       "    }\n",
       "\n",
       "    .dataframe tbody tr th {\n",
       "        vertical-align: top;\n",
       "    }\n",
       "\n",
       "    .dataframe thead th {\n",
       "        text-align: right;\n",
       "    }\n",
       "</style>\n",
       "<table border=\"1\" class=\"dataframe\">\n",
       "  <thead>\n",
       "    <tr style=\"text-align: right;\">\n",
       "      <th></th>\n",
       "      <th>GDPC1</th>\n",
       "      <th>gdpc1_yoy</th>\n",
       "    </tr>\n",
       "    <tr>\n",
       "      <th>DATE</th>\n",
       "      <th></th>\n",
       "      <th></th>\n",
       "    </tr>\n",
       "  </thead>\n",
       "  <tbody>\n",
       "    <tr>\n",
       "      <th>2023-01-01</th>\n",
       "      <td>22112.329</td>\n",
       "      <td>0.017179</td>\n",
       "    </tr>\n",
       "    <tr>\n",
       "      <th>2023-04-01</th>\n",
       "      <td>22225.350</td>\n",
       "      <td>0.023825</td>\n",
       "    </tr>\n",
       "    <tr>\n",
       "      <th>2023-07-01</th>\n",
       "      <td>22490.692</td>\n",
       "      <td>0.029269</td>\n",
       "    </tr>\n",
       "    <tr>\n",
       "      <th>2023-10-01</th>\n",
       "      <td>22679.255</td>\n",
       "      <td>0.031345</td>\n",
       "    </tr>\n",
       "  </tbody>\n",
       "</table>\n",
       "</div>"
      ],
      "text/plain": [
       "                GDPC1  gdpc1_yoy\n",
       "DATE                            \n",
       "2023-01-01  22112.329   0.017179\n",
       "2023-04-01  22225.350   0.023825\n",
       "2023-07-01  22490.692   0.029269\n",
       "2023-10-01  22679.255   0.031345"
      ]
     },
     "execution_count": 6,
     "metadata": {},
     "output_type": "execute_result"
    }
   ],
   "source": [
    "gdpc1.iloc[-4:]"
   ]
  },
  {
   "cell_type": "code",
   "execution_count": 7,
   "id": "d033e4fd-64fe-4057-a5e2-5444b10bff1a",
   "metadata": {},
   "outputs": [
    {
     "name": "stdout",
     "output_type": "stream",
     "text": [
      "2.5\n"
     ]
    }
   ],
   "source": [
    "print(f\"{100*gdpc1.iloc[-4:].gdpc1_yoy.mean():.1f}\")"
   ]
  },
  {
   "cell_type": "markdown",
   "id": "2b5769f5-48f6-4877-abf3-9287e9d2791e",
   "metadata": {},
   "source": [
    "# Q2"
   ]
  },
  {
   "cell_type": "code",
   "execution_count": 8,
   "id": "32f10fe0-7519-4ccc-ad4c-76030b9ecde4",
   "metadata": {},
   "outputs": [],
   "source": [
    "DGS2 = pdr.DataReader(\"DGS2\", \"fred\", start=start)\n",
    "DGS10 = pdr.DataReader(\"DGS10\", \"fred\", start=start)"
   ]
  },
  {
   "cell_type": "code",
   "execution_count": 9,
   "id": "6f69fd2b-915f-4082-a249-14a9e9bd2f54",
   "metadata": {},
   "outputs": [
    {
     "data": {
      "text/html": [
       "<div>\n",
       "<style scoped>\n",
       "    .dataframe tbody tr th:only-of-type {\n",
       "        vertical-align: middle;\n",
       "    }\n",
       "\n",
       "    .dataframe tbody tr th {\n",
       "        vertical-align: top;\n",
       "    }\n",
       "\n",
       "    .dataframe thead th {\n",
       "        text-align: right;\n",
       "    }\n",
       "</style>\n",
       "<table border=\"1\" class=\"dataframe\">\n",
       "  <thead>\n",
       "    <tr style=\"text-align: right;\">\n",
       "      <th></th>\n",
       "      <th>DGS2</th>\n",
       "    </tr>\n",
       "    <tr>\n",
       "      <th>DATE</th>\n",
       "      <th></th>\n",
       "    </tr>\n",
       "  </thead>\n",
       "  <tbody>\n",
       "    <tr>\n",
       "      <th>1976-06-01</th>\n",
       "      <td>7.26</td>\n",
       "    </tr>\n",
       "    <tr>\n",
       "      <th>1976-06-02</th>\n",
       "      <td>7.23</td>\n",
       "    </tr>\n",
       "    <tr>\n",
       "      <th>1976-06-03</th>\n",
       "      <td>7.22</td>\n",
       "    </tr>\n",
       "    <tr>\n",
       "      <th>1976-06-04</th>\n",
       "      <td>7.12</td>\n",
       "    </tr>\n",
       "    <tr>\n",
       "      <th>1976-06-07</th>\n",
       "      <td>7.09</td>\n",
       "    </tr>\n",
       "  </tbody>\n",
       "</table>\n",
       "</div>"
      ],
      "text/plain": [
       "            DGS2\n",
       "DATE            \n",
       "1976-06-01  7.26\n",
       "1976-06-02  7.23\n",
       "1976-06-03  7.22\n",
       "1976-06-04  7.12\n",
       "1976-06-07  7.09"
      ]
     },
     "execution_count": 9,
     "metadata": {},
     "output_type": "execute_result"
    }
   ],
   "source": [
    "DGS2.head()"
   ]
  },
  {
   "cell_type": "code",
   "execution_count": 10,
   "id": "252b7577-63ba-401c-849e-1384e9d3dafe",
   "metadata": {},
   "outputs": [
    {
     "data": {
      "text/html": [
       "<div>\n",
       "<style scoped>\n",
       "    .dataframe tbody tr th:only-of-type {\n",
       "        vertical-align: middle;\n",
       "    }\n",
       "\n",
       "    .dataframe tbody tr th {\n",
       "        vertical-align: top;\n",
       "    }\n",
       "\n",
       "    .dataframe thead th {\n",
       "        text-align: right;\n",
       "    }\n",
       "</style>\n",
       "<table border=\"1\" class=\"dataframe\">\n",
       "  <thead>\n",
       "    <tr style=\"text-align: right;\">\n",
       "      <th></th>\n",
       "      <th>DGS10</th>\n",
       "    </tr>\n",
       "    <tr>\n",
       "      <th>DATE</th>\n",
       "      <th></th>\n",
       "    </tr>\n",
       "  </thead>\n",
       "  <tbody>\n",
       "    <tr>\n",
       "      <th>1962-01-02</th>\n",
       "      <td>4.06</td>\n",
       "    </tr>\n",
       "    <tr>\n",
       "      <th>1962-01-03</th>\n",
       "      <td>4.03</td>\n",
       "    </tr>\n",
       "    <tr>\n",
       "      <th>1962-01-04</th>\n",
       "      <td>3.99</td>\n",
       "    </tr>\n",
       "    <tr>\n",
       "      <th>1962-01-05</th>\n",
       "      <td>4.02</td>\n",
       "    </tr>\n",
       "    <tr>\n",
       "      <th>1962-01-08</th>\n",
       "      <td>4.03</td>\n",
       "    </tr>\n",
       "  </tbody>\n",
       "</table>\n",
       "</div>"
      ],
      "text/plain": [
       "            DGS10\n",
       "DATE             \n",
       "1962-01-02   4.06\n",
       "1962-01-03   4.03\n",
       "1962-01-04   3.99\n",
       "1962-01-05   4.02\n",
       "1962-01-08   4.03"
      ]
     },
     "execution_count": 10,
     "metadata": {},
     "output_type": "execute_result"
    }
   ],
   "source": [
    "DGS10.head()"
   ]
  },
  {
   "cell_type": "code",
   "execution_count": 11,
   "id": "9c839970-11bc-4b45-b194-de8d90fa7e81",
   "metadata": {},
   "outputs": [],
   "source": [
    "joined = DGS10.join(DGS2, how=\"inner\", on=\"DATE\")"
   ]
  },
  {
   "cell_type": "code",
   "execution_count": 12,
   "id": "0fd0ad6a-fee9-4f72-b514-f7c0cd7077b4",
   "metadata": {},
   "outputs": [
    {
     "data": {
      "text/html": [
       "<div>\n",
       "<style scoped>\n",
       "    .dataframe tbody tr th:only-of-type {\n",
       "        vertical-align: middle;\n",
       "    }\n",
       "\n",
       "    .dataframe tbody tr th {\n",
       "        vertical-align: top;\n",
       "    }\n",
       "\n",
       "    .dataframe thead th {\n",
       "        text-align: right;\n",
       "    }\n",
       "</style>\n",
       "<table border=\"1\" class=\"dataframe\">\n",
       "  <thead>\n",
       "    <tr style=\"text-align: right;\">\n",
       "      <th></th>\n",
       "      <th>DGS10</th>\n",
       "      <th>DGS2</th>\n",
       "      <th>dgs10-dgs2</th>\n",
       "    </tr>\n",
       "    <tr>\n",
       "      <th>DATE</th>\n",
       "      <th></th>\n",
       "      <th></th>\n",
       "      <th></th>\n",
       "    </tr>\n",
       "  </thead>\n",
       "  <tbody>\n",
       "    <tr>\n",
       "      <th>1976-06-01</th>\n",
       "      <td>7.94</td>\n",
       "      <td>7.26</td>\n",
       "      <td>0.68</td>\n",
       "    </tr>\n",
       "    <tr>\n",
       "      <th>1976-06-02</th>\n",
       "      <td>7.94</td>\n",
       "      <td>7.23</td>\n",
       "      <td>0.71</td>\n",
       "    </tr>\n",
       "    <tr>\n",
       "      <th>1976-06-03</th>\n",
       "      <td>7.92</td>\n",
       "      <td>7.22</td>\n",
       "      <td>0.70</td>\n",
       "    </tr>\n",
       "    <tr>\n",
       "      <th>1976-06-04</th>\n",
       "      <td>7.89</td>\n",
       "      <td>7.12</td>\n",
       "      <td>0.77</td>\n",
       "    </tr>\n",
       "    <tr>\n",
       "      <th>1976-06-07</th>\n",
       "      <td>7.88</td>\n",
       "      <td>7.09</td>\n",
       "      <td>0.79</td>\n",
       "    </tr>\n",
       "  </tbody>\n",
       "</table>\n",
       "</div>"
      ],
      "text/plain": [
       "            DGS10  DGS2  dgs10-dgs2\n",
       "DATE                               \n",
       "1976-06-01   7.94  7.26        0.68\n",
       "1976-06-02   7.94  7.23        0.71\n",
       "1976-06-03   7.92  7.22        0.70\n",
       "1976-06-04   7.89  7.12        0.77\n",
       "1976-06-07   7.88  7.09        0.79"
      ]
     },
     "execution_count": 12,
     "metadata": {},
     "output_type": "execute_result"
    }
   ],
   "source": [
    "joined[\"dgs10-dgs2\"] = joined[\"DGS10\"] - joined[\"DGS2\"]\n",
    "joined.head()"
   ]
  },
  {
   "cell_type": "code",
   "execution_count": 13,
   "id": "524514cc-92b2-4a3d-940f-d53422f2ddc6",
   "metadata": {},
   "outputs": [],
   "source": [
    "joined_after_2000 = joined[joined.index >= \"2000-01-01\"]"
   ]
  },
  {
   "cell_type": "code",
   "execution_count": 14,
   "id": "d1c6a77d-d8cf-44b3-a2e7-ca2cee5ad562",
   "metadata": {},
   "outputs": [
    {
     "name": "stdout",
     "output_type": "stream",
     "text": [
      "-1.1\n"
     ]
    }
   ],
   "source": [
    "print(f\"{joined_after_2000['dgs10-dgs2'].min():.1f}\")"
   ]
  },
  {
   "cell_type": "markdown",
   "id": "b7449813-a178-4171-be25-962726b96ef7",
   "metadata": {},
   "source": [
    "# Q3"
   ]
  },
  {
   "cell_type": "code",
   "execution_count": 15,
   "id": "704173bc-31d1-4f2d-91d9-cc7b5f552db3",
   "metadata": {},
   "outputs": [],
   "source": [
    "import yfinance as yf"
   ]
  },
  {
   "cell_type": "code",
   "execution_count": 16,
   "id": "5962ef0a-7fb8-4107-8ea2-070a90aa7dc8",
   "metadata": {},
   "outputs": [
    {
     "name": "stderr",
     "output_type": "stream",
     "text": [
      "[*********************100%%**********************]  1 of 1 completed\n",
      "[*********************100%%**********************]  1 of 1 completed\n"
     ]
    }
   ],
   "source": [
    "sp500 = yf.download(tickers=\"^GSPC\", \n",
    "                    period = \"max\",\n",
    "                    interval = \"1d\")\n",
    "ipc_m = yf.download(\"^MXX\",\n",
    "                    period = \"max\",\n",
    "                    interval = \"1d\")"
   ]
  },
  {
   "cell_type": "code",
   "execution_count": 17,
   "id": "03ac4c5f-6bef-4590-b96a-04debab64225",
   "metadata": {},
   "outputs": [],
   "source": [
    "def calculate_growth(index: pd.DataFrame, start_time: str, end_time: str, state: str) -> int:\n",
    "    return int((index[index.index==end_time][state].values[0]/index[index.index==start_time][state].values[0] - 1)*100)"
   ]
  },
  {
   "cell_type": "code",
   "execution_count": 18,
   "id": "6babad31-64b7-468a-885f-c2802d8df458",
   "metadata": {},
   "outputs": [
    {
     "data": {
      "text/plain": [
       "(81, 80, 81)"
      ]
     },
     "execution_count": 18,
     "metadata": {},
     "output_type": "execute_result"
    }
   ],
   "source": [
    "calculate_growth(sp500, \"2019-04-09\", \"2024-04-09\", \"Close\"), calculate_growth(sp500, \"2019-04-09\", \"2024-04-09\", \"Open\"), calculate_growth(sp500, \"2019-04-09\", \"2024-04-09\", \"Adj Close\")"
   ]
  },
  {
   "cell_type": "code",
   "execution_count": 19,
   "id": "b3c6a2f6-15f6-47fb-8076-80282bc126a2",
   "metadata": {},
   "outputs": [
    {
     "data": {
      "text/plain": [
       "(27, 27, 27)"
      ]
     },
     "execution_count": 19,
     "metadata": {},
     "output_type": "execute_result"
    }
   ],
   "source": [
    "calculate_growth(ipc_m, \"2019-04-09\", \"2024-04-09\", \"Close\"), calculate_growth(ipc_m, \"2019-04-09\", \"2024-04-09\", \"Open\"), calculate_growth(ipc_m, \"2019-04-09\", \"2024-04-09\", \"Adj Close\")"
   ]
  },
  {
   "cell_type": "markdown",
   "id": "bc103074-9df1-4873-b132-db44c9ee5cbb",
   "metadata": {},
   "source": [
    "# Q4"
   ]
  },
  {
   "cell_type": "code",
   "execution_count": 20,
   "id": "da6210cf-1533-4670-ba61-1120604bcb8d",
   "metadata": {},
   "outputs": [],
   "source": [
    "import requests"
   ]
  },
  {
   "cell_type": "code",
   "execution_count": 21,
   "id": "85a3bafb-071b-4aef-9b33-088093f4cd11",
   "metadata": {},
   "outputs": [
    {
     "data": {
      "text/plain": [
       "['2222.SR', 'BRK-B', 'AAPL', 'MSFT', 'GOOG', 'JPM']"
      ]
     },
     "execution_count": 21,
     "metadata": {},
     "output_type": "execute_result"
    }
   ],
   "source": [
    "response = requests.get(\"https://companiesmarketcap.com/most-profitable-companies/?download=csv\", headers={\n",
    "    \"User-Agent\": \"Mozilla/5.0 (Windows NT 10.0; Win64; x64) AppleWebKit/537.36 (KHTML, like Gecko) Chrome/58.0.3029.110 Safari/537.3\"\n",
    "})\n",
    "data = response.content.decode(\"utf-8\").split('\\n')\n",
    "\n",
    "top6 = [row.split(\",\")[2].replace(\"\\\"\", \"\") for row in data[1:7]]\n",
    "top6"
   ]
  },
  {
   "cell_type": "code",
   "execution_count": 22,
   "id": "e1dd3991-7063-402d-87a5-b08c6d82cc5e",
   "metadata": {},
   "outputs": [
    {
     "name": "stderr",
     "output_type": "stream",
     "text": [
      "[*********************100%%**********************]  1 of 1 completed\n",
      "[*********************100%%**********************]  1 of 1 completed\n"
     ]
    },
    {
     "name": "stdout",
     "output_type": "stream",
     "text": [
      "2222.SR = 0.21\n",
      "BRK-B = 0.21\n"
     ]
    },
    {
     "name": "stderr",
     "output_type": "stream",
     "text": [
      "[*********************100%%**********************]  1 of 1 completed\n"
     ]
    },
    {
     "name": "stdout",
     "output_type": "stream",
     "text": [
      "AAPL = 0.37\n"
     ]
    },
    {
     "name": "stderr",
     "output_type": "stream",
     "text": [
      "[*********************100%%**********************]  1 of 1 completed\n",
      "[*********************100%%**********************]  1 of 1 completed\n"
     ]
    },
    {
     "name": "stdout",
     "output_type": "stream",
     "text": [
      "MSFT = 0.42\n",
      "GOOG = 0.39\n"
     ]
    },
    {
     "name": "stderr",
     "output_type": "stream",
     "text": [
      "[*********************100%%**********************]  1 of 1 completed"
     ]
    },
    {
     "name": "stdout",
     "output_type": "stream",
     "text": [
      "JPM = 0.28\n"
     ]
    },
    {
     "name": "stderr",
     "output_type": "stream",
     "text": [
      "\n"
     ]
    }
   ],
   "source": [
    "for index_name in top6:\n",
    "    index = yf.download(tickers=index_name, \n",
    "                        period = \"max\",\n",
    "                        interval = \"1d\")\n",
    "    index_2023 = index[(index.index >= \"2023-01-01\") & (index.index < \"2024-01-01\")]\n",
    "    index_2023_max = index_2023[\"Adj Close\"].max()\n",
    "    index_2023_min = index_2023[\"Adj Close\"].min()\n",
    "    \n",
    "    print(f\"{index_name} = {(index_2023_max-index_2023_min)/index_2023_max:.2f}\")"
   ]
  },
  {
   "cell_type": "markdown",
   "id": "0a8f11a6-552a-4781-82dc-82c634636179",
   "metadata": {},
   "source": [
    "# Q5"
   ]
  },
  {
   "cell_type": "code",
   "execution_count": 23,
   "id": "9d3e998d-f811-4bcb-89ed-3abd1244becb",
   "metadata": {},
   "outputs": [],
   "source": [
    "tickers = yf.Tickers(\" \".join(n.lower() for n in top6))"
   ]
  },
  {
   "cell_type": "code",
   "execution_count": 24,
   "id": "7f304fa4-a9ac-45a0-9435-67df6e27e0f4",
   "metadata": {},
   "outputs": [
    {
     "name": "stderr",
     "output_type": "stream",
     "text": [
      "[*********************100%%**********************]  1 of 1 completed\n"
     ]
    },
    {
     "name": "stdout",
     "output_type": "stream",
     "text": [
      "2222.SR = 2.8%\n"
     ]
    },
    {
     "name": "stderr",
     "output_type": "stream",
     "text": [
      "[*********************100%%**********************]  1 of 1 completed\n"
     ]
    },
    {
     "name": "stdout",
     "output_type": "stream",
     "text": [
      "BRK-B = 0.0%\n"
     ]
    },
    {
     "name": "stderr",
     "output_type": "stream",
     "text": [
      "[*********************100%%**********************]  1 of 1 completed\n"
     ]
    },
    {
     "name": "stdout",
     "output_type": "stream",
     "text": [
      "AAPL = 0.5%\n"
     ]
    },
    {
     "name": "stderr",
     "output_type": "stream",
     "text": [
      "[*********************100%%**********************]  1 of 1 completed\n"
     ]
    },
    {
     "name": "stdout",
     "output_type": "stream",
     "text": [
      "MSFT = 0.7%\n"
     ]
    },
    {
     "name": "stderr",
     "output_type": "stream",
     "text": [
      "[*********************100%%**********************]  1 of 1 completed\n"
     ]
    },
    {
     "name": "stdout",
     "output_type": "stream",
     "text": [
      "GOOG = 0.0%\n"
     ]
    },
    {
     "name": "stderr",
     "output_type": "stream",
     "text": [
      "[*********************100%%**********************]  1 of 1 completed"
     ]
    },
    {
     "name": "stdout",
     "output_type": "stream",
     "text": [
      "JPM = 2.4%\n"
     ]
    },
    {
     "name": "stderr",
     "output_type": "stream",
     "text": [
      "\n"
     ]
    }
   ],
   "source": [
    "for index_name in top6:\n",
    "    dividends = tickers.tickers[index_name].dividends\n",
    "    dividends_2023 = sum(dividends[(dividends.index >= \"2023-01-01\") & (dividends.index < \"2024-01-01\")])\n",
    "\n",
    "    index = yf.download(tickers=index_name, \n",
    "                        period = \"max\",\n",
    "                        interval = \"1d\")\n",
    "    index_2023 = index[(index.index >= \"2023-01-01\") & (index.index < \"2024-01-01\")]\n",
    "    \n",
    "    print(f\"{index_name} = {100*dividends_2023/index_2023.iloc[-1]['Adj Close']:.1f}%\")"
   ]
  },
  {
   "cell_type": "code",
   "execution_count": null,
   "id": "0db65dca-95ce-489c-ba5e-eef5eaeaa4e8",
   "metadata": {},
   "outputs": [],
   "source": []
  },
  {
   "cell_type": "code",
   "execution_count": null,
   "id": "218457bf-2a5d-4ea6-b716-36b950ca5c1b",
   "metadata": {},
   "outputs": [],
   "source": []
  }
 ],
 "metadata": {
  "kernelspec": {
   "display_name": "Python 3 (ipykernel)",
   "language": "python",
   "name": "python3"
  },
  "language_info": {
   "codemirror_mode": {
    "name": "ipython",
    "version": 3
   },
   "file_extension": ".py",
   "mimetype": "text/x-python",
   "name": "python",
   "nbconvert_exporter": "python",
   "pygments_lexer": "ipython3",
   "version": "3.10.14"
  }
 },
 "nbformat": 4,
 "nbformat_minor": 5
}
